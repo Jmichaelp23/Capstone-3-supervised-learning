{
 "cells": [
  {
   "cell_type": "markdown",
   "metadata": {},
   "source": [
    "# Supervised Learning Capstone"
   ]
  },
  {
   "cell_type": "markdown",
   "metadata": {},
   "source": [
    "## This is a dataset from LendingClub that looks at all loans issued through 2007 to 2011 including current loan status."
   ]
  },
  {
   "cell_type": "markdown",
   "metadata": {},
   "source": [
    "The goal is to see if we can correctly predict which loans are paid v. charged off based on variables in the dataset by using various supervised learning methods."
   ]
  },
  {
   "cell_type": "markdown",
   "metadata": {},
   "source": [
    "Link to dataset:https://www.lendingclub.com/info/download-data.action"
   ]
  },
  {
   "cell_type": "markdown",
   "metadata": {},
   "source": [
    "__Question I am trying to answer: Can we correctly predict loans that will be paid v. charged off based on various variables?__"
   ]
  },
  {
   "cell_type": "markdown",
   "metadata": {},
   "source": [
    "__The main target variables I was looking at were Fully Paid and Charged Off. Fully Paid = 1, Charged Off = 0.__"
   ]
  },
  {
   "cell_type": "markdown",
   "metadata": {},
   "source": [
    "To answer this question, I have used various supervised learning methods such as Naive Bayes, Logistic Regression with Grid Search, Random Forest Classifier with Grid Search, KNN Neighbors with Grid Search and an attempted SVM model which did not work."
   ]
  },
  {
   "cell_type": "markdown",
   "metadata": {},
   "source": [
    "Accuracy scores with each model:\n",
    "\n",
    "- Naive Bayes: 0.8574\n",
    "- Random Forest: 0.8752\n",
    "- Logistic Regression: 0.8601\n",
    "- KNN: 0.8609"
   ]
  },
  {
   "cell_type": "code",
   "execution_count": 1,
   "metadata": {},
   "outputs": [],
   "source": [
    "import pandas as pd\n",
    "import numpy as np\n",
    "import scipy\n",
    "import matplotlib.pyplot as plt\n",
    "from sklearn import tree\n",
    "from IPython.display import Image\n",
    "import pydotplus\n",
    "import graphviz\n",
    "import random\n",
    "import re\n",
    "from sklearn.model_selection import train_test_split\n",
    "from sklearn.ensemble import RandomForestClassifier\n",
    "from sklearn.neighbors import KNeighborsClassifier\n",
    "from sklearn.metrics import accuracy_score\n",
    "import matplotlib.pyplot as plt\n",
    "import seaborn as sns\n",
    "%matplotlib inline\n",
    "from sklearn import linear_model,svm\n",
    "from sklearn.metrics import average_precision_score\n",
    "from sklearn.metrics import precision_recall_curve\n",
    "import warnings\n",
    "warnings.filterwarnings('ignore')\n",
    "%matplotlib inline"
   ]
  },
  {
   "cell_type": "markdown",
   "metadata": {},
   "source": [
    "## __Understanding the dataset and evaluating the data types.__"
   ]
  },
  {
   "cell_type": "markdown",
   "metadata": {},
   "source": [
    "My first step was understanding the dataset and evaluating various datatypes. To do so, I looked at various aspects of the dataset such as rows / columns, shape, data types."
   ]
  },
  {
   "cell_type": "markdown",
   "metadata": {},
   "source": [
    "I also calcuated the benchmark score for two target variables I was looking at Fully Paid v. Charged Off."
   ]
  },
  {
   "cell_type": "markdown",
   "metadata": {},
   "source": [
    "- Fully Paid = 34116\n",
    "- Charged Off = 5670\n",
    "- Fully Paid Benchmark Percentage: 86%\n",
    "- Charged Off Benchmark Percentage: 14%"
   ]
  },
  {
   "cell_type": "code",
   "execution_count": 2,
   "metadata": {},
   "outputs": [],
   "source": [
    "df = pd.read_csv(\"loan.csv\", low_memory = False)"
   ]
  },
  {
   "cell_type": "code",
   "execution_count": 3,
   "metadata": {},
   "outputs": [
    {
     "data": {
      "text/html": [
       "<div>\n",
       "<style scoped>\n",
       "    .dataframe tbody tr th:only-of-type {\n",
       "        vertical-align: middle;\n",
       "    }\n",
       "\n",
       "    .dataframe tbody tr th {\n",
       "        vertical-align: top;\n",
       "    }\n",
       "\n",
       "    .dataframe thead th {\n",
       "        text-align: right;\n",
       "    }\n",
       "</style>\n",
       "<table border=\"1\" class=\"dataframe\">\n",
       "  <thead>\n",
       "    <tr style=\"text-align: right;\">\n",
       "      <th></th>\n",
       "      <th>id</th>\n",
       "      <th>member_id</th>\n",
       "      <th>loan_amnt</th>\n",
       "      <th>funded_amnt</th>\n",
       "      <th>funded_amnt_inv</th>\n",
       "      <th>term</th>\n",
       "      <th>int_rate</th>\n",
       "      <th>installment</th>\n",
       "      <th>grade</th>\n",
       "      <th>sub_grade</th>\n",
       "      <th>...</th>\n",
       "      <th>orig_projected_additional_accrued_interest</th>\n",
       "      <th>hardship_payoff_balance_amount</th>\n",
       "      <th>hardship_last_payment_amount</th>\n",
       "      <th>debt_settlement_flag</th>\n",
       "      <th>debt_settlement_flag_date</th>\n",
       "      <th>settlement_status</th>\n",
       "      <th>settlement_date</th>\n",
       "      <th>settlement_amount</th>\n",
       "      <th>settlement_percentage</th>\n",
       "      <th>settlement_term</th>\n",
       "    </tr>\n",
       "  </thead>\n",
       "  <tbody>\n",
       "    <tr>\n",
       "      <th>0</th>\n",
       "      <td>1077501</td>\n",
       "      <td>NaN</td>\n",
       "      <td>5000.0</td>\n",
       "      <td>5000.0</td>\n",
       "      <td>4975.0</td>\n",
       "      <td>36 months</td>\n",
       "      <td>10.65%</td>\n",
       "      <td>162.87</td>\n",
       "      <td>B</td>\n",
       "      <td>B2</td>\n",
       "      <td>...</td>\n",
       "      <td>NaN</td>\n",
       "      <td>NaN</td>\n",
       "      <td>NaN</td>\n",
       "      <td>N</td>\n",
       "      <td>NaN</td>\n",
       "      <td>NaN</td>\n",
       "      <td>NaN</td>\n",
       "      <td>NaN</td>\n",
       "      <td>NaN</td>\n",
       "      <td>NaN</td>\n",
       "    </tr>\n",
       "    <tr>\n",
       "      <th>1</th>\n",
       "      <td>1077430</td>\n",
       "      <td>NaN</td>\n",
       "      <td>2500.0</td>\n",
       "      <td>2500.0</td>\n",
       "      <td>2500.0</td>\n",
       "      <td>60 months</td>\n",
       "      <td>15.27%</td>\n",
       "      <td>59.83</td>\n",
       "      <td>C</td>\n",
       "      <td>C4</td>\n",
       "      <td>...</td>\n",
       "      <td>NaN</td>\n",
       "      <td>NaN</td>\n",
       "      <td>NaN</td>\n",
       "      <td>N</td>\n",
       "      <td>NaN</td>\n",
       "      <td>NaN</td>\n",
       "      <td>NaN</td>\n",
       "      <td>NaN</td>\n",
       "      <td>NaN</td>\n",
       "      <td>NaN</td>\n",
       "    </tr>\n",
       "    <tr>\n",
       "      <th>2</th>\n",
       "      <td>1077175</td>\n",
       "      <td>NaN</td>\n",
       "      <td>2400.0</td>\n",
       "      <td>2400.0</td>\n",
       "      <td>2400.0</td>\n",
       "      <td>36 months</td>\n",
       "      <td>15.96%</td>\n",
       "      <td>84.33</td>\n",
       "      <td>C</td>\n",
       "      <td>C5</td>\n",
       "      <td>...</td>\n",
       "      <td>NaN</td>\n",
       "      <td>NaN</td>\n",
       "      <td>NaN</td>\n",
       "      <td>N</td>\n",
       "      <td>NaN</td>\n",
       "      <td>NaN</td>\n",
       "      <td>NaN</td>\n",
       "      <td>NaN</td>\n",
       "      <td>NaN</td>\n",
       "      <td>NaN</td>\n",
       "    </tr>\n",
       "    <tr>\n",
       "      <th>3</th>\n",
       "      <td>1076863</td>\n",
       "      <td>NaN</td>\n",
       "      <td>10000.0</td>\n",
       "      <td>10000.0</td>\n",
       "      <td>10000.0</td>\n",
       "      <td>36 months</td>\n",
       "      <td>13.49%</td>\n",
       "      <td>339.31</td>\n",
       "      <td>C</td>\n",
       "      <td>C1</td>\n",
       "      <td>...</td>\n",
       "      <td>NaN</td>\n",
       "      <td>NaN</td>\n",
       "      <td>NaN</td>\n",
       "      <td>N</td>\n",
       "      <td>NaN</td>\n",
       "      <td>NaN</td>\n",
       "      <td>NaN</td>\n",
       "      <td>NaN</td>\n",
       "      <td>NaN</td>\n",
       "      <td>NaN</td>\n",
       "    </tr>\n",
       "    <tr>\n",
       "      <th>4</th>\n",
       "      <td>1075358</td>\n",
       "      <td>NaN</td>\n",
       "      <td>3000.0</td>\n",
       "      <td>3000.0</td>\n",
       "      <td>3000.0</td>\n",
       "      <td>60 months</td>\n",
       "      <td>12.69%</td>\n",
       "      <td>67.79</td>\n",
       "      <td>B</td>\n",
       "      <td>B5</td>\n",
       "      <td>...</td>\n",
       "      <td>NaN</td>\n",
       "      <td>NaN</td>\n",
       "      <td>NaN</td>\n",
       "      <td>N</td>\n",
       "      <td>NaN</td>\n",
       "      <td>NaN</td>\n",
       "      <td>NaN</td>\n",
       "      <td>NaN</td>\n",
       "      <td>NaN</td>\n",
       "      <td>NaN</td>\n",
       "    </tr>\n",
       "  </tbody>\n",
       "</table>\n",
       "<p>5 rows × 150 columns</p>\n",
       "</div>"
      ],
      "text/plain": [
       "        id  member_id  loan_amnt  funded_amnt  funded_amnt_inv        term  \\\n",
       "0  1077501        NaN     5000.0       5000.0           4975.0   36 months   \n",
       "1  1077430        NaN     2500.0       2500.0           2500.0   60 months   \n",
       "2  1077175        NaN     2400.0       2400.0           2400.0   36 months   \n",
       "3  1076863        NaN    10000.0      10000.0          10000.0   36 months   \n",
       "4  1075358        NaN     3000.0       3000.0           3000.0   60 months   \n",
       "\n",
       "  int_rate  installment grade sub_grade  ...  \\\n",
       "0   10.65%       162.87     B        B2  ...   \n",
       "1   15.27%        59.83     C        C4  ...   \n",
       "2   15.96%        84.33     C        C5  ...   \n",
       "3   13.49%       339.31     C        C1  ...   \n",
       "4   12.69%        67.79     B        B5  ...   \n",
       "\n",
       "  orig_projected_additional_accrued_interest hardship_payoff_balance_amount  \\\n",
       "0                                        NaN                            NaN   \n",
       "1                                        NaN                            NaN   \n",
       "2                                        NaN                            NaN   \n",
       "3                                        NaN                            NaN   \n",
       "4                                        NaN                            NaN   \n",
       "\n",
       "  hardship_last_payment_amount  debt_settlement_flag  \\\n",
       "0                          NaN                     N   \n",
       "1                          NaN                     N   \n",
       "2                          NaN                     N   \n",
       "3                          NaN                     N   \n",
       "4                          NaN                     N   \n",
       "\n",
       "  debt_settlement_flag_date settlement_status settlement_date  \\\n",
       "0                       NaN               NaN             NaN   \n",
       "1                       NaN               NaN             NaN   \n",
       "2                       NaN               NaN             NaN   \n",
       "3                       NaN               NaN             NaN   \n",
       "4                       NaN               NaN             NaN   \n",
       "\n",
       "  settlement_amount settlement_percentage settlement_term  \n",
       "0               NaN                   NaN             NaN  \n",
       "1               NaN                   NaN             NaN  \n",
       "2               NaN                   NaN             NaN  \n",
       "3               NaN                   NaN             NaN  \n",
       "4               NaN                   NaN             NaN  \n",
       "\n",
       "[5 rows x 150 columns]"
      ]
     },
     "execution_count": 3,
     "metadata": {},
     "output_type": "execute_result"
    }
   ],
   "source": [
    "df.head()"
   ]
  },
  {
   "cell_type": "code",
   "execution_count": 4,
   "metadata": {},
   "outputs": [
    {
     "data": {
      "text/plain": [
       "Index(['id', 'member_id', 'loan_amnt', 'funded_amnt', 'funded_amnt_inv',\n",
       "       'term', 'int_rate', 'installment', 'grade', 'sub_grade',\n",
       "       ...\n",
       "       'orig_projected_additional_accrued_interest',\n",
       "       'hardship_payoff_balance_amount', 'hardship_last_payment_amount',\n",
       "       'debt_settlement_flag', 'debt_settlement_flag_date',\n",
       "       'settlement_status', 'settlement_date', 'settlement_amount',\n",
       "       'settlement_percentage', 'settlement_term'],\n",
       "      dtype='object', length=150)"
      ]
     },
     "execution_count": 4,
     "metadata": {},
     "output_type": "execute_result"
    }
   ],
   "source": [
    "df.columns"
   ]
  },
  {
   "cell_type": "code",
   "execution_count": 5,
   "metadata": {},
   "outputs": [
    {
     "data": {
      "text/plain": [
       "id                                             object\n",
       "member_id                                     float64\n",
       "loan_amnt                                     float64\n",
       "funded_amnt                                   float64\n",
       "funded_amnt_inv                               float64\n",
       "term                                           object\n",
       "int_rate                                       object\n",
       "installment                                   float64\n",
       "grade                                          object\n",
       "sub_grade                                      object\n",
       "emp_title                                      object\n",
       "emp_length                                     object\n",
       "home_ownership                                 object\n",
       "annual_inc                                    float64\n",
       "verification_status                            object\n",
       "issue_d                                        object\n",
       "loan_status                                    object\n",
       "pymnt_plan                                     object\n",
       "url                                            object\n",
       "desc                                           object\n",
       "purpose                                        object\n",
       "title                                          object\n",
       "zip_code                                       object\n",
       "addr_state                                     object\n",
       "dti                                           float64\n",
       "delinq_2yrs                                   float64\n",
       "earliest_cr_line                               object\n",
       "fico_range_low                                float64\n",
       "fico_range_high                               float64\n",
       "inq_last_6mths                                float64\n",
       "                                               ...   \n",
       "sec_app_mort_acc                              float64\n",
       "sec_app_open_acc                              float64\n",
       "sec_app_revol_util                            float64\n",
       "sec_app_open_act_il                           float64\n",
       "sec_app_num_rev_accts                         float64\n",
       "sec_app_chargeoff_within_12_mths              float64\n",
       "sec_app_collections_12_mths_ex_med            float64\n",
       "sec_app_mths_since_last_major_derog           float64\n",
       "hardship_flag                                  object\n",
       "hardship_type                                 float64\n",
       "hardship_reason                               float64\n",
       "hardship_status                               float64\n",
       "deferral_term                                 float64\n",
       "hardship_amount                               float64\n",
       "hardship_start_date                           float64\n",
       "hardship_end_date                             float64\n",
       "payment_plan_start_date                       float64\n",
       "hardship_length                               float64\n",
       "hardship_dpd                                  float64\n",
       "hardship_loan_status                          float64\n",
       "orig_projected_additional_accrued_interest    float64\n",
       "hardship_payoff_balance_amount                float64\n",
       "hardship_last_payment_amount                  float64\n",
       "debt_settlement_flag                           object\n",
       "debt_settlement_flag_date                      object\n",
       "settlement_status                              object\n",
       "settlement_date                                object\n",
       "settlement_amount                             float64\n",
       "settlement_percentage                         float64\n",
       "settlement_term                               float64\n",
       "Length: 150, dtype: object"
      ]
     },
     "execution_count": 5,
     "metadata": {},
     "output_type": "execute_result"
    }
   ],
   "source": [
    "df.dtypes"
   ]
  },
  {
   "cell_type": "code",
   "execution_count": 6,
   "metadata": {},
   "outputs": [
    {
     "data": {
      "text/plain": [
       "0     Fully Paid\n",
       "1    Charged Off\n",
       "2     Fully Paid\n",
       "3     Fully Paid\n",
       "4     Fully Paid\n",
       "Name: loan_status, dtype: object"
      ]
     },
     "execution_count": 6,
     "metadata": {},
     "output_type": "execute_result"
    }
   ],
   "source": [
    "df['loan_status'].head()"
   ]
  },
  {
   "cell_type": "code",
   "execution_count": 7,
   "metadata": {},
   "outputs": [
    {
     "data": {
      "text/plain": [
       "Fully Paid                                             34116\n",
       "Charged Off                                             5670\n",
       "Does not meet the credit policy. Status:Fully Paid      1988\n",
       "Does not meet the credit policy. Status:Charged Off      761\n",
       "Name: loan_status, dtype: int64"
      ]
     },
     "execution_count": 7,
     "metadata": {},
     "output_type": "execute_result"
    }
   ],
   "source": [
    "df['loan_status'].value_counts()"
   ]
  },
  {
   "cell_type": "code",
   "execution_count": 8,
   "metadata": {},
   "outputs": [
    {
     "name": "stdout",
     "output_type": "stream",
     "text": [
      "Shape of Dataset:  (42542, 150)\n"
     ]
    }
   ],
   "source": [
    "print(\"Shape of Dataset: \", df.shape)"
   ]
  },
  {
   "cell_type": "code",
   "execution_count": 9,
   "metadata": {},
   "outputs": [
    {
     "name": "stdout",
     "output_type": "stream",
     "text": [
      "39786\n",
      "0.14251244156235862\n",
      "0.8574875584376414\n"
     ]
    }
   ],
   "source": [
    "# Benchmark score \n",
    "\n",
    "fully_paid = 34116 \n",
    "charged_off = 5670 \n",
    "total = 34116 + 5670\n",
    "print(total)\n",
    "benchmark = charged_off/ total\n",
    "print(benchmark)\n",
    "benchmark_paid = fully_paid / total\n",
    "print(benchmark_paid)"
   ]
  },
  {
   "cell_type": "markdown",
   "metadata": {},
   "source": [
    "## __Data cleaning and Transforming:__"
   ]
  },
  {
   "cell_type": "markdown",
   "metadata": {},
   "source": [
    "Cleaning up the data and transforming them to get them ready for analysis."
   ]
  },
  {
   "cell_type": "markdown",
   "metadata": {},
   "source": [
    "- Changed \"Fully Paid\" to 1 making it numeric\n",
    "- Changed \"Charged Off\" to 0 making it numeric\n",
    "- Dropped rows if it doesn't have at least 35,000 values\n",
    "- NaNs were then replaced with zeros\n",
    "- Changed loan grades to be numeric in order (A = 7 (highest)....G = 1 (lowest))\n",
    "- Removed special characters from columns avoiding errors created by special characters altogether\n",
    "- Changed home ownership to numeric values in ranks (Mortgage = 5 (highest).... None = 1 (lowest))\n",
    "- Converted column values to floats or integers"
   ]
  },
  {
   "cell_type": "code",
   "execution_count": 10,
   "metadata": {},
   "outputs": [],
   "source": [
    "df_loanstatus = df[(df['loan_status']== 'Fully Paid') | (df['loan_status'] == 'Charged Off')]\n",
    "bl = {'Fully Paid': 1, 'Charged Off' : 0}\n",
    "df_final = df_loanstatus.replace({'loan_status': bl})"
   ]
  },
  {
   "cell_type": "code",
   "execution_count": 11,
   "metadata": {},
   "outputs": [
    {
     "data": {
      "text/plain": [
       "0    1\n",
       "1    0\n",
       "2    1\n",
       "3    1\n",
       "4    1\n",
       "Name: loan_status, dtype: int64"
      ]
     },
     "execution_count": 11,
     "metadata": {},
     "output_type": "execute_result"
    }
   ],
   "source": [
    "#Fully Paid is now 1 and Charged Off is 0 \n",
    "# bl above is boolean \n",
    "df_final['loan_status'].head()"
   ]
  },
  {
   "cell_type": "code",
   "execution_count": 12,
   "metadata": {},
   "outputs": [
    {
     "data": {
      "text/plain": [
       "1    34116\n",
       "0     5670\n",
       "Name: loan_status, dtype: int64"
      ]
     },
     "execution_count": 12,
     "metadata": {},
     "output_type": "execute_result"
    }
   ],
   "source": [
    "df_final['loan_status'].value_counts()"
   ]
  },
  {
   "cell_type": "code",
   "execution_count": 13,
   "metadata": {},
   "outputs": [],
   "source": [
    "#Drops row if it does not have at least 35,000 values that are not NAN \n",
    "df_final = df_final.dropna(thresh = 35000, axis = 1)"
   ]
  },
  {
   "cell_type": "code",
   "execution_count": 14,
   "metadata": {},
   "outputs": [
    {
     "name": "stdout",
     "output_type": "stream",
     "text": [
      "Shape: (39786, 58)\n"
     ]
    }
   ],
   "source": [
    "print('Shape:', df_final.shape)"
   ]
  },
  {
   "cell_type": "code",
   "execution_count": 15,
   "metadata": {},
   "outputs": [
    {
     "data": {
      "text/plain": [
       "array(['B', 'C', 'A', 'E', 'F', 'D', 'G'], dtype=object)"
      ]
     },
     "execution_count": 15,
     "metadata": {},
     "output_type": "execute_result"
    }
   ],
   "source": [
    "df_final['grade'].unique()"
   ]
  },
  {
   "cell_type": "code",
   "execution_count": 16,
   "metadata": {},
   "outputs": [],
   "source": [
    "# A , B , C , D, E, F, G (A is the best and G is the worst)\n",
    "# A = 7, B = 6, C = 5, D = 4, E = 3, F = 2 , G = 1\n",
    "\n",
    "df_final['grade'] = df_final['grade'].map({'A': 7, 'B': 6, 'C': 5, 'D': 4, 'E': 3, 'F': 2, 'G': 1})"
   ]
  },
  {
   "cell_type": "code",
   "execution_count": 17,
   "metadata": {},
   "outputs": [
    {
     "data": {
      "text/plain": [
       "array([6, 5, 7, 3, 2, 4, 1], dtype=int64)"
      ]
     },
     "execution_count": 17,
     "metadata": {},
     "output_type": "execute_result"
    }
   ],
   "source": [
    "df_final['grade'].unique()"
   ]
  },
  {
   "cell_type": "code",
   "execution_count": 18,
   "metadata": {},
   "outputs": [],
   "source": [
    "df_final['emp_length'] = df['emp_length'].replace({'years':'','year':'',' ':'','<':'','\\+':'','n/a': 0, 'NaN' : 0, 'nan': 0}, regex = True)"
   ]
  },
  {
   "cell_type": "code",
   "execution_count": 19,
   "metadata": {},
   "outputs": [
    {
     "data": {
      "text/plain": [
       "0    10\n",
       "1     1\n",
       "2    10\n",
       "3    10\n",
       "4     1\n",
       "Name: emp_length, dtype: object"
      ]
     },
     "execution_count": 19,
     "metadata": {},
     "output_type": "execute_result"
    }
   ],
   "source": [
    "df_final['emp_length'].head()"
   ]
  },
  {
   "cell_type": "code",
   "execution_count": 20,
   "metadata": {},
   "outputs": [
    {
     "data": {
      "text/plain": [
       "0        10\n",
       "1         1\n",
       "2        10\n",
       "3        10\n",
       "4         1\n",
       "5         3\n",
       "6         8\n",
       "7         9\n",
       "8         4\n",
       "9         1\n",
       "10        5\n",
       "11       10\n",
       "12        1\n",
       "13        3\n",
       "14        3\n",
       "15        1\n",
       "16        4\n",
       "17       10\n",
       "18        1\n",
       "19        6\n",
       "20        3\n",
       "21       10\n",
       "22       10\n",
       "23        5\n",
       "24        1\n",
       "25        2\n",
       "26        9\n",
       "27        2\n",
       "28       10\n",
       "29        1\n",
       "         ..\n",
       "39756     9\n",
       "39757     6\n",
       "39758     1\n",
       "39759     3\n",
       "39760     1\n",
       "39761     1\n",
       "39762     1\n",
       "39763     8\n",
       "39764     7\n",
       "39765     2\n",
       "39766     1\n",
       "39767     1\n",
       "39768     4\n",
       "39769     1\n",
       "39770     7\n",
       "39771     1\n",
       "39772     2\n",
       "39773     1\n",
       "39774     8\n",
       "39775     1\n",
       "39776     2\n",
       "39777     4\n",
       "39778     1\n",
       "39779     1\n",
       "39780     5\n",
       "39781     4\n",
       "39782     3\n",
       "39783     1\n",
       "39784     1\n",
       "39785     1\n",
       "Name: emp_length, Length: 38708, dtype: object"
      ]
     },
     "execution_count": 20,
     "metadata": {},
     "output_type": "execute_result"
    }
   ],
   "source": [
    "df_final['emp_length'].dropna(how = all)"
   ]
  },
  {
   "cell_type": "code",
   "execution_count": 21,
   "metadata": {},
   "outputs": [],
   "source": [
    "df_final['term'] = df['term'].replace({'months': '', 'month': '', 'n/a': '0', 'nan': 0}, regex = True)"
   ]
  },
  {
   "cell_type": "code",
   "execution_count": 22,
   "metadata": {},
   "outputs": [
    {
     "data": {
      "text/plain": [
       "0     36 \n",
       "1     60 \n",
       "2     36 \n",
       "3     36 \n",
       "4     60 \n",
       "Name: term, dtype: object"
      ]
     },
     "execution_count": 22,
     "metadata": {},
     "output_type": "execute_result"
    }
   ],
   "source": [
    "df_final['term'].head()"
   ]
  },
  {
   "cell_type": "code",
   "execution_count": 23,
   "metadata": {},
   "outputs": [
    {
     "data": {
      "text/plain": [
       " 36     29096\n",
       " 60     10690\n",
       "Name: term, dtype: int64"
      ]
     },
     "execution_count": 23,
     "metadata": {},
     "output_type": "execute_result"
    }
   ],
   "source": [
    "df_final['term'].value_counts()"
   ]
  },
  {
   "cell_type": "code",
   "execution_count": 24,
   "metadata": {},
   "outputs": [],
   "source": [
    "df_final['term'] = df_final['term'].apply(lambda x: int(x))"
   ]
  },
  {
   "cell_type": "code",
   "execution_count": 25,
   "metadata": {},
   "outputs": [
    {
     "data": {
      "text/plain": [
       "count    39786.000000\n",
       "mean        42.448499\n",
       "std         10.638782\n",
       "min         36.000000\n",
       "25%         36.000000\n",
       "50%         36.000000\n",
       "75%         60.000000\n",
       "max         60.000000\n",
       "Name: term, dtype: float64"
      ]
     },
     "execution_count": 25,
     "metadata": {},
     "output_type": "execute_result"
    }
   ],
   "source": [
    "df_final['term'].describe()"
   ]
  },
  {
   "cell_type": "code",
   "execution_count": 26,
   "metadata": {},
   "outputs": [
    {
     "data": {
      "text/plain": [
       "0    10\n",
       "1     1\n",
       "2    10\n",
       "3    10\n",
       "4     1\n",
       "Name: emp_length, dtype: object"
      ]
     },
     "execution_count": 26,
     "metadata": {},
     "output_type": "execute_result"
    }
   ],
   "source": [
    "df_final['emp_length'].head()"
   ]
  },
  {
   "cell_type": "code",
   "execution_count": 27,
   "metadata": {},
   "outputs": [],
   "source": [
    "df_final = df_final.dropna(axis = 1, how = 'all')"
   ]
  },
  {
   "cell_type": "code",
   "execution_count": 28,
   "metadata": {},
   "outputs": [],
   "source": [
    "features = ['funded_amnt','emp_length','annual_inc','home_ownership','grade',\n",
    "            'last_pymnt_amnt', 'loan_amnt', 'int_rate', 'open_acc',\n",
    "            'loan_status'] \n",
    "df_final = df_final[features]"
   ]
  },
  {
   "cell_type": "code",
   "execution_count": 29,
   "metadata": {},
   "outputs": [
    {
     "data": {
      "text/plain": [
       "array(['RENT', 'OWN', 'MORTGAGE', 'OTHER', 'NONE'], dtype=object)"
      ]
     },
     "execution_count": 29,
     "metadata": {},
     "output_type": "execute_result"
    }
   ],
   "source": [
    "df_final['home_ownership'].unique()"
   ]
  },
  {
   "cell_type": "code",
   "execution_count": 30,
   "metadata": {},
   "outputs": [],
   "source": [
    "# Home Ownership is (Highest to Lowest in a way): Mortgage, Rent, Own, Other, None \n",
    "# Mortgage = 5 , Rent = 4, Own = 3, Other = 2, None = 1\n",
    "df_final['home_ownership'] = df_final['home_ownership'].map({'MORTGAGE': 5, 'RENT': 4, 'OWN': 3, 'OTHER': 2, 'NONE': 1})"
   ]
  },
  {
   "cell_type": "code",
   "execution_count": 31,
   "metadata": {},
   "outputs": [
    {
     "data": {
      "text/html": [
       "<div>\n",
       "<style scoped>\n",
       "    .dataframe tbody tr th:only-of-type {\n",
       "        vertical-align: middle;\n",
       "    }\n",
       "\n",
       "    .dataframe tbody tr th {\n",
       "        vertical-align: top;\n",
       "    }\n",
       "\n",
       "    .dataframe thead th {\n",
       "        text-align: right;\n",
       "    }\n",
       "</style>\n",
       "<table border=\"1\" class=\"dataframe\">\n",
       "  <thead>\n",
       "    <tr style=\"text-align: right;\">\n",
       "      <th></th>\n",
       "      <th>funded_amnt</th>\n",
       "      <th>emp_length</th>\n",
       "      <th>annual_inc</th>\n",
       "      <th>home_ownership</th>\n",
       "      <th>grade</th>\n",
       "      <th>last_pymnt_amnt</th>\n",
       "      <th>loan_amnt</th>\n",
       "      <th>int_rate</th>\n",
       "      <th>open_acc</th>\n",
       "      <th>loan_status</th>\n",
       "    </tr>\n",
       "  </thead>\n",
       "  <tbody>\n",
       "    <tr>\n",
       "      <th>0</th>\n",
       "      <td>5000.0</td>\n",
       "      <td>10</td>\n",
       "      <td>24000.0</td>\n",
       "      <td>4</td>\n",
       "      <td>6</td>\n",
       "      <td>171.62</td>\n",
       "      <td>5000.0</td>\n",
       "      <td>10.65%</td>\n",
       "      <td>3.0</td>\n",
       "      <td>1</td>\n",
       "    </tr>\n",
       "    <tr>\n",
       "      <th>1</th>\n",
       "      <td>2500.0</td>\n",
       "      <td>1</td>\n",
       "      <td>30000.0</td>\n",
       "      <td>4</td>\n",
       "      <td>5</td>\n",
       "      <td>119.66</td>\n",
       "      <td>2500.0</td>\n",
       "      <td>15.27%</td>\n",
       "      <td>3.0</td>\n",
       "      <td>0</td>\n",
       "    </tr>\n",
       "    <tr>\n",
       "      <th>2</th>\n",
       "      <td>2400.0</td>\n",
       "      <td>10</td>\n",
       "      <td>12252.0</td>\n",
       "      <td>4</td>\n",
       "      <td>5</td>\n",
       "      <td>649.91</td>\n",
       "      <td>2400.0</td>\n",
       "      <td>15.96%</td>\n",
       "      <td>2.0</td>\n",
       "      <td>1</td>\n",
       "    </tr>\n",
       "    <tr>\n",
       "      <th>3</th>\n",
       "      <td>10000.0</td>\n",
       "      <td>10</td>\n",
       "      <td>49200.0</td>\n",
       "      <td>4</td>\n",
       "      <td>5</td>\n",
       "      <td>357.48</td>\n",
       "      <td>10000.0</td>\n",
       "      <td>13.49%</td>\n",
       "      <td>10.0</td>\n",
       "      <td>1</td>\n",
       "    </tr>\n",
       "    <tr>\n",
       "      <th>4</th>\n",
       "      <td>3000.0</td>\n",
       "      <td>1</td>\n",
       "      <td>80000.0</td>\n",
       "      <td>4</td>\n",
       "      <td>6</td>\n",
       "      <td>67.30</td>\n",
       "      <td>3000.0</td>\n",
       "      <td>12.69%</td>\n",
       "      <td>15.0</td>\n",
       "      <td>1</td>\n",
       "    </tr>\n",
       "  </tbody>\n",
       "</table>\n",
       "</div>"
      ],
      "text/plain": [
       "   funded_amnt emp_length  annual_inc  home_ownership  grade  last_pymnt_amnt  \\\n",
       "0       5000.0         10     24000.0               4      6           171.62   \n",
       "1       2500.0          1     30000.0               4      5           119.66   \n",
       "2       2400.0         10     12252.0               4      5           649.91   \n",
       "3      10000.0         10     49200.0               4      5           357.48   \n",
       "4       3000.0          1     80000.0               4      6            67.30   \n",
       "\n",
       "   loan_amnt int_rate  open_acc  loan_status  \n",
       "0     5000.0   10.65%       3.0            1  \n",
       "1     2500.0   15.27%       3.0            0  \n",
       "2     2400.0   15.96%       2.0            1  \n",
       "3    10000.0   13.49%      10.0            1  \n",
       "4     3000.0   12.69%      15.0            1  "
      ]
     },
     "execution_count": 31,
     "metadata": {},
     "output_type": "execute_result"
    }
   ],
   "source": [
    "df_final.head()"
   ]
  },
  {
   "cell_type": "code",
   "execution_count": 32,
   "metadata": {},
   "outputs": [],
   "source": [
    "df_final = df_final.fillna(0)"
   ]
  },
  {
   "cell_type": "code",
   "execution_count": 33,
   "metadata": {},
   "outputs": [],
   "source": [
    "df_final['emp_length'] = df_final['emp_length'].apply(lambda x: int(x))"
   ]
  },
  {
   "cell_type": "code",
   "execution_count": 34,
   "metadata": {},
   "outputs": [
    {
     "data": {
      "text/plain": [
       "count    39786.000000\n",
       "mean         4.954934\n",
       "std          3.462426\n",
       "min          0.000000\n",
       "25%          2.000000\n",
       "50%          4.000000\n",
       "75%          9.000000\n",
       "max         10.000000\n",
       "Name: emp_length, dtype: float64"
      ]
     },
     "execution_count": 34,
     "metadata": {},
     "output_type": "execute_result"
    }
   ],
   "source": [
    "df_final['emp_length'].describe()"
   ]
  },
  {
   "cell_type": "code",
   "execution_count": 35,
   "metadata": {},
   "outputs": [
    {
     "data": {
      "text/plain": [
       "funded_amnt        float64\n",
       "emp_length           int64\n",
       "annual_inc         float64\n",
       "home_ownership       int64\n",
       "grade                int64\n",
       "last_pymnt_amnt    float64\n",
       "loan_amnt          float64\n",
       "int_rate            object\n",
       "open_acc           float64\n",
       "loan_status          int64\n",
       "dtype: object"
      ]
     },
     "execution_count": 35,
     "metadata": {},
     "output_type": "execute_result"
    }
   ],
   "source": [
    "df_final.dtypes"
   ]
  },
  {
   "cell_type": "code",
   "execution_count": 36,
   "metadata": {},
   "outputs": [],
   "source": [
    "df_final['funded_amnt'] = df_final['funded_amnt'].apply(lambda x: int(x))"
   ]
  },
  {
   "cell_type": "code",
   "execution_count": 37,
   "metadata": {},
   "outputs": [
    {
     "data": {
      "text/plain": [
       "funded_amnt          int64\n",
       "emp_length           int64\n",
       "annual_inc         float64\n",
       "home_ownership       int64\n",
       "grade                int64\n",
       "last_pymnt_amnt    float64\n",
       "loan_amnt          float64\n",
       "int_rate            object\n",
       "open_acc           float64\n",
       "loan_status          int64\n",
       "dtype: object"
      ]
     },
     "execution_count": 37,
     "metadata": {},
     "output_type": "execute_result"
    }
   ],
   "source": [
    "df_final.dtypes"
   ]
  },
  {
   "cell_type": "code",
   "execution_count": 38,
   "metadata": {},
   "outputs": [],
   "source": [
    "df_final['loan_amnt'] = df_final['loan_amnt'].apply(lambda x: int(x))\n",
    "df_final['open_acc'] = df_final['open_acc'].apply(lambda x: int(x))"
   ]
  },
  {
   "cell_type": "code",
   "execution_count": 39,
   "metadata": {},
   "outputs": [
    {
     "data": {
      "text/plain": [
       "funded_amnt          int64\n",
       "emp_length           int64\n",
       "annual_inc         float64\n",
       "home_ownership       int64\n",
       "grade                int64\n",
       "last_pymnt_amnt    float64\n",
       "loan_amnt            int64\n",
       "int_rate            object\n",
       "open_acc             int64\n",
       "loan_status          int64\n",
       "dtype: object"
      ]
     },
     "execution_count": 39,
     "metadata": {},
     "output_type": "execute_result"
    }
   ],
   "source": [
    "df_final.dtypes"
   ]
  },
  {
   "cell_type": "code",
   "execution_count": 40,
   "metadata": {},
   "outputs": [],
   "source": [
    "df_final[\"int_rate\"] = df_final[\"int_rate\"].apply(lambda x:float(x[:-1]) )"
   ]
  },
  {
   "cell_type": "code",
   "execution_count": 41,
   "metadata": {},
   "outputs": [
    {
     "data": {
      "text/plain": [
       "funded_amnt          int64\n",
       "emp_length           int64\n",
       "annual_inc         float64\n",
       "home_ownership       int64\n",
       "grade                int64\n",
       "last_pymnt_amnt    float64\n",
       "loan_amnt            int64\n",
       "int_rate           float64\n",
       "open_acc             int64\n",
       "loan_status          int64\n",
       "dtype: object"
      ]
     },
     "execution_count": 41,
     "metadata": {},
     "output_type": "execute_result"
    }
   ],
   "source": [
    "df_final.dtypes"
   ]
  },
  {
   "cell_type": "markdown",
   "metadata": {},
   "source": [
    "## __Data Visualization__"
   ]
  },
  {
   "cell_type": "markdown",
   "metadata": {},
   "source": [
    "These are just some graphs that I generated out of the dataset to see if it assists the analysis in any way. I was mostly interested in seeing the class imbalance data."
   ]
  },
  {
   "cell_type": "code",
   "execution_count": 47,
   "metadata": {},
   "outputs": [
    {
     "data": {
      "image/png": "[encoded data removed]",
      "text/plain": [
       "<Figure size 432x288 with 1 Axes>"
      ]
     },
     "metadata": {
      "needs_background": "light"
     },
     "output_type": "display_data"
    }
   ],
   "source": [
    "#Basic Histogram\n",
    "df_final['loan_amnt'].hist()\n",
    "plt.show()"
   ]
  },
  {
   "cell_type": "code",
   "execution_count": 48,
   "metadata": {},
   "outputs": [
    {
     "data": {
      "image/png": "[encoded data removed]",
      "text/plain": [
       "<Figure size 425.125x360 with 1 Axes>"
      ]
     },
     "metadata": {
      "needs_background": "light"
     },
     "output_type": "display_data"
    }
   ],
   "source": [
    "## A graph showing relationship between annual income vs. Paid off v. Charged Off. \n",
    "## Here we can see a clear relationship that higher income does lead to better chance of paying off your loan but, that is expected\n",
    "sns.lmplot(x = 'loan_amnt', y = 'annual_inc', data = df_final, fit_reg = True, hue = 'loan_status', x_bins = 10)\n",
    "plt.show()"
   ]
  },
  {
   "cell_type": "code",
   "execution_count": 49,
   "metadata": {},
   "outputs": [
    {
     "data": {
      "image/png": "[encoded data removed]",
      "text/plain": [
       "<Figure size 432x288 with 1 Axes>"
      ]
     },
     "metadata": {
      "needs_background": "light"
     },
     "output_type": "display_data"
    }
   ],
   "source": [
    "# 0 is Charge Off , 1 = Fully Paid \n",
    "\n",
    "sns.barplot(x = 'loan_status', y = 'loan_amnt', data = df_final)\n",
    "plt.show()"
   ]
  },
  {
   "cell_type": "code",
   "execution_count": 50,
   "metadata": {},
   "outputs": [
    {
     "data": {
      "image/png": "[encoded data removed]",
      "text/plain": [
       "<Figure size 432x288 with 1 Axes>"
      ]
     },
     "metadata": {
      "needs_background": "light"
     },
     "output_type": "display_data"
    }
   ],
   "source": [
    "sns.boxplot(x = 'loan_status', y = 'loan_amnt', data = df_final)\n",
    "plt.show()"
   ]
  },
  {
   "cell_type": "code",
   "execution_count": 51,
   "metadata": {},
   "outputs": [
    {
     "data": {
      "image/png": "[encoded data removed]",
      "text/plain": [
       "<Figure size 432x288 with 1 Axes>"
      ]
     },
     "metadata": {
      "needs_background": "light"
     },
     "output_type": "display_data"
    }
   ],
   "source": [
    "sns.countplot(x = 'loan_status', data = df_final)\n",
    "plt.xlabel(\"Classes\")\n",
    "plt.ylabel(\"Frequencies\")\n",
    "plt.show()"
   ]
  },
  {
   "cell_type": "code",
   "execution_count": 52,
   "metadata": {},
   "outputs": [],
   "source": [
    "corr = df_final[['funded_amnt','emp_length','annual_inc','home_ownership','grade',\n",
    "            'last_pymnt_amnt', 'loan_amnt', 'int_rate', 'open_acc',\n",
    "            'loan_status']].corr()"
   ]
  },
  {
   "cell_type": "code",
   "execution_count": 53,
   "metadata": {},
   "outputs": [
    {
     "data": {
      "image/png": "[encoded data removed]",
      "text/plain": [
       "<Figure size 432x288 with 2 Axes>"
      ]
     },
     "metadata": {
      "needs_background": "light"
     },
     "output_type": "display_data"
    }
   ],
   "source": [
    "sns.heatmap(corr, annot = True)\n",
    "plt.show()"
   ]
  },
  {
   "cell_type": "code",
   "execution_count": 54,
   "metadata": {},
   "outputs": [
    {
     "data": {
      "text/html": [
       "<div>\n",
       "<style scoped>\n",
       "    .dataframe tbody tr th:only-of-type {\n",
       "        vertical-align: middle;\n",
       "    }\n",
       "\n",
       "    .dataframe tbody tr th {\n",
       "        vertical-align: top;\n",
       "    }\n",
       "\n",
       "    .dataframe thead th {\n",
       "        text-align: right;\n",
       "    }\n",
       "</style>\n",
       "<table border=\"1\" class=\"dataframe\">\n",
       "  <thead>\n",
       "    <tr style=\"text-align: right;\">\n",
       "      <th></th>\n",
       "      <th>funded_amnt</th>\n",
       "      <th>emp_length</th>\n",
       "      <th>annual_inc</th>\n",
       "      <th>home_ownership</th>\n",
       "      <th>grade</th>\n",
       "      <th>last_pymnt_amnt</th>\n",
       "      <th>loan_amnt</th>\n",
       "      <th>int_rate</th>\n",
       "      <th>open_acc</th>\n",
       "      <th>loan_status</th>\n",
       "    </tr>\n",
       "  </thead>\n",
       "  <tbody>\n",
       "    <tr>\n",
       "      <th>funded_amnt</th>\n",
       "      <td>1.000000</td>\n",
       "      <td>0.161981</td>\n",
       "      <td>0.267130</td>\n",
       "      <td>0.151106</td>\n",
       "      <td>-0.291942</td>\n",
       "      <td>0.453141</td>\n",
       "      <td>0.981544</td>\n",
       "      <td>0.313568</td>\n",
       "      <td>0.175515</td>\n",
       "      <td>-0.047299</td>\n",
       "    </tr>\n",
       "    <tr>\n",
       "      <th>emp_length</th>\n",
       "      <td>0.161981</td>\n",
       "      <td>1.000000</td>\n",
       "      <td>0.122358</td>\n",
       "      <td>0.187739</td>\n",
       "      <td>-0.014025</td>\n",
       "      <td>0.082401</td>\n",
       "      <td>0.162359</td>\n",
       "      <td>0.017656</td>\n",
       "      <td>0.101091</td>\n",
       "      <td>-0.004891</td>\n",
       "    </tr>\n",
       "    <tr>\n",
       "      <th>annual_inc</th>\n",
       "      <td>0.267130</td>\n",
       "      <td>0.122358</td>\n",
       "      <td>1.000000</td>\n",
       "      <td>0.174693</td>\n",
       "      <td>-0.055220</td>\n",
       "      <td>0.140584</td>\n",
       "      <td>0.271340</td>\n",
       "      <td>0.053485</td>\n",
       "      <td>0.158178</td>\n",
       "      <td>0.041168</td>\n",
       "    </tr>\n",
       "    <tr>\n",
       "      <th>home_ownership</th>\n",
       "      <td>0.151106</td>\n",
       "      <td>0.187739</td>\n",
       "      <td>0.174693</td>\n",
       "      <td>1.000000</td>\n",
       "      <td>0.029040</td>\n",
       "      <td>0.081680</td>\n",
       "      <td>0.155650</td>\n",
       "      <td>-0.037807</td>\n",
       "      <td>0.169069</td>\n",
       "      <td>0.021352</td>\n",
       "    </tr>\n",
       "    <tr>\n",
       "      <th>grade</th>\n",
       "      <td>-0.291942</td>\n",
       "      <td>-0.014025</td>\n",
       "      <td>-0.055220</td>\n",
       "      <td>0.029040</td>\n",
       "      <td>1.000000</td>\n",
       "      <td>-0.141104</td>\n",
       "      <td>-0.291485</td>\n",
       "      <td>-0.948674</td>\n",
       "      <td>-0.013337</td>\n",
       "      <td>0.191650</td>\n",
       "    </tr>\n",
       "    <tr>\n",
       "      <th>last_pymnt_amnt</th>\n",
       "      <td>0.453141</td>\n",
       "      <td>0.082401</td>\n",
       "      <td>0.140584</td>\n",
       "      <td>0.081680</td>\n",
       "      <td>-0.141104</td>\n",
       "      <td>1.000000</td>\n",
       "      <td>0.448642</td>\n",
       "      <td>0.157738</td>\n",
       "      <td>0.079063</td>\n",
       "      <td>0.215818</td>\n",
       "    </tr>\n",
       "    <tr>\n",
       "      <th>loan_amnt</th>\n",
       "      <td>0.981544</td>\n",
       "      <td>0.162359</td>\n",
       "      <td>0.271340</td>\n",
       "      <td>0.155650</td>\n",
       "      <td>-0.291485</td>\n",
       "      <td>0.448642</td>\n",
       "      <td>1.000000</td>\n",
       "      <td>0.310481</td>\n",
       "      <td>0.177216</td>\n",
       "      <td>-0.050035</td>\n",
       "    </tr>\n",
       "    <tr>\n",
       "      <th>int_rate</th>\n",
       "      <td>0.313568</td>\n",
       "      <td>0.017656</td>\n",
       "      <td>0.053485</td>\n",
       "      <td>-0.037807</td>\n",
       "      <td>-0.948674</td>\n",
       "      <td>0.157738</td>\n",
       "      <td>0.310481</td>\n",
       "      <td>1.000000</td>\n",
       "      <td>0.010311</td>\n",
       "      <td>-0.197918</td>\n",
       "    </tr>\n",
       "    <tr>\n",
       "      <th>open_acc</th>\n",
       "      <td>0.175515</td>\n",
       "      <td>0.101091</td>\n",
       "      <td>0.158178</td>\n",
       "      <td>0.169069</td>\n",
       "      <td>-0.013337</td>\n",
       "      <td>0.079063</td>\n",
       "      <td>0.177216</td>\n",
       "      <td>0.010311</td>\n",
       "      <td>1.000000</td>\n",
       "      <td>0.010199</td>\n",
       "    </tr>\n",
       "    <tr>\n",
       "      <th>loan_status</th>\n",
       "      <td>-0.047299</td>\n",
       "      <td>-0.004891</td>\n",
       "      <td>0.041168</td>\n",
       "      <td>0.021352</td>\n",
       "      <td>0.191650</td>\n",
       "      <td>0.215818</td>\n",
       "      <td>-0.050035</td>\n",
       "      <td>-0.197918</td>\n",
       "      <td>0.010199</td>\n",
       "      <td>1.000000</td>\n",
       "    </tr>\n",
       "  </tbody>\n",
       "</table>\n",
       "</div>"
      ],
      "text/plain": [
       "                 funded_amnt  emp_length  annual_inc  home_ownership  \\\n",
       "funded_amnt         1.000000    0.161981    0.267130        0.151106   \n",
       "emp_length          0.161981    1.000000    0.122358        0.187739   \n",
       "annual_inc          0.267130    0.122358    1.000000        0.174693   \n",
       "home_ownership      0.151106    0.187739    0.174693        1.000000   \n",
       "grade              -0.291942   -0.014025   -0.055220        0.029040   \n",
       "last_pymnt_amnt     0.453141    0.082401    0.140584        0.081680   \n",
       "loan_amnt           0.981544    0.162359    0.271340        0.155650   \n",
       "int_rate            0.313568    0.017656    0.053485       -0.037807   \n",
       "open_acc            0.175515    0.101091    0.158178        0.169069   \n",
       "loan_status        -0.047299   -0.004891    0.041168        0.021352   \n",
       "\n",
       "                    grade  last_pymnt_amnt  loan_amnt  int_rate  open_acc  \\\n",
       "funded_amnt     -0.291942         0.453141   0.981544  0.313568  0.175515   \n",
       "emp_length      -0.014025         0.082401   0.162359  0.017656  0.101091   \n",
       "annual_inc      -0.055220         0.140584   0.271340  0.053485  0.158178   \n",
       "home_ownership   0.029040         0.081680   0.155650 -0.037807  0.169069   \n",
       "grade            1.000000        -0.141104  -0.291485 -0.948674 -0.013337   \n",
       "last_pymnt_amnt -0.141104         1.000000   0.448642  0.157738  0.079063   \n",
       "loan_amnt       -0.291485         0.448642   1.000000  0.310481  0.177216   \n",
       "int_rate        -0.948674         0.157738   0.310481  1.000000  0.010311   \n",
       "open_acc        -0.013337         0.079063   0.177216  0.010311  1.000000   \n",
       "loan_status      0.191650         0.215818  -0.050035 -0.197918  0.010199   \n",
       "\n",
       "                 loan_status  \n",
       "funded_amnt        -0.047299  \n",
       "emp_length         -0.004891  \n",
       "annual_inc          0.041168  \n",
       "home_ownership      0.021352  \n",
       "grade               0.191650  \n",
       "last_pymnt_amnt     0.215818  \n",
       "loan_amnt          -0.050035  \n",
       "int_rate           -0.197918  \n",
       "open_acc            0.010199  \n",
       "loan_status         1.000000  "
      ]
     },
     "execution_count": 54,
     "metadata": {},
     "output_type": "execute_result"
    }
   ],
   "source": [
    "df_final.corr()"
   ]
  },
  {
   "cell_type": "markdown",
   "metadata": {},
   "source": [
    "## __Principal Component Analysis:__"
   ]
  },
  {
   "cell_type": "markdown",
   "metadata": {},
   "source": [
    "I did a Principal Component Analysis using 2 features to standarize the data as well as to understand impact of each feature in the dataset and compare it to the \"loan_status\" target. I also used PCA to visualize which shows a relationship between two classes and the two features generated by PCA."
   ]
  },
  {
   "cell_type": "markdown",
   "metadata": {},
   "source": [
    "I then did a Train Test split of the dataset to get it ready for supervised learning"
   ]
  },
  {
   "cell_type": "code",
   "execution_count": 55,
   "metadata": {},
   "outputs": [],
   "source": [
    "x = df_final.loc[:, features].values\n",
    "y = df_final.loc[:, ['loan_status']].values"
   ]
  },
  {
   "cell_type": "code",
   "execution_count": 56,
   "metadata": {},
   "outputs": [],
   "source": [
    "from sklearn.preprocessing import StandardScaler\n",
    "from sklearn.decomposition import PCA\n",
    "x = StandardScaler().fit_transform(x)"
   ]
  },
  {
   "cell_type": "code",
   "execution_count": 57,
   "metadata": {},
   "outputs": [
    {
     "data": {
      "text/html": [
       "<div>\n",
       "<style scoped>\n",
       "    .dataframe tbody tr th:only-of-type {\n",
       "        vertical-align: middle;\n",
       "    }\n",
       "\n",
       "    .dataframe tbody tr th {\n",
       "        vertical-align: top;\n",
       "    }\n",
       "\n",
       "    .dataframe thead th {\n",
       "        text-align: right;\n",
       "    }\n",
       "</style>\n",
       "<table border=\"1\" class=\"dataframe\">\n",
       "  <thead>\n",
       "    <tr style=\"text-align: right;\">\n",
       "      <th></th>\n",
       "      <th>funded_amnt</th>\n",
       "      <th>emp_length</th>\n",
       "      <th>annual_inc</th>\n",
       "      <th>home_ownership</th>\n",
       "      <th>grade</th>\n",
       "      <th>last_pymnt_amnt</th>\n",
       "      <th>loan_amnt</th>\n",
       "      <th>int_rate</th>\n",
       "      <th>open_acc</th>\n",
       "      <th>loan_status</th>\n",
       "    </tr>\n",
       "  </thead>\n",
       "  <tbody>\n",
       "    <tr>\n",
       "      <th>0</th>\n",
       "      <td>-0.828292</td>\n",
       "      <td>1.457108</td>\n",
       "      <td>-0.705423</td>\n",
       "      <td>-0.572992</td>\n",
       "      <td>0.417449</td>\n",
       "      <td>-0.564321</td>\n",
       "      <td>-0.834805</td>\n",
       "      <td>-0.369659</td>\n",
       "      <td>-1.430479</td>\n",
       "      <td>0.407673</td>\n",
       "    </tr>\n",
       "    <tr>\n",
       "      <th>1</th>\n",
       "      <td>-1.175805</td>\n",
       "      <td>-1.142258</td>\n",
       "      <td>-0.611323</td>\n",
       "      <td>-0.572992</td>\n",
       "      <td>-0.302911</td>\n",
       "      <td>-0.576015</td>\n",
       "      <td>-1.169726</td>\n",
       "      <td>0.869805</td>\n",
       "      <td>-1.430479</td>\n",
       "      <td>-2.452943</td>\n",
       "    </tr>\n",
       "    <tr>\n",
       "      <th>2</th>\n",
       "      <td>-1.189705</td>\n",
       "      <td>1.457108</td>\n",
       "      <td>-0.889671</td>\n",
       "      <td>-0.572992</td>\n",
       "      <td>-0.302911</td>\n",
       "      <td>-0.456679</td>\n",
       "      <td>-1.183123</td>\n",
       "      <td>1.054919</td>\n",
       "      <td>-1.657755</td>\n",
       "      <td>0.407673</td>\n",
       "    </tr>\n",
       "    <tr>\n",
       "      <th>3</th>\n",
       "      <td>-0.133267</td>\n",
       "      <td>1.457108</td>\n",
       "      <td>-0.310202</td>\n",
       "      <td>-0.572992</td>\n",
       "      <td>-0.302911</td>\n",
       "      <td>-0.522492</td>\n",
       "      <td>-0.164963</td>\n",
       "      <td>0.392262</td>\n",
       "      <td>0.160451</td>\n",
       "      <td>0.407673</td>\n",
       "    </tr>\n",
       "    <tr>\n",
       "      <th>4</th>\n",
       "      <td>-1.106302</td>\n",
       "      <td>-1.142258</td>\n",
       "      <td>0.172845</td>\n",
       "      <td>-0.572992</td>\n",
       "      <td>0.417449</td>\n",
       "      <td>-0.587799</td>\n",
       "      <td>-1.102742</td>\n",
       "      <td>0.177637</td>\n",
       "      <td>1.296830</td>\n",
       "      <td>0.407673</td>\n",
       "    </tr>\n",
       "  </tbody>\n",
       "</table>\n",
       "</div>"
      ],
      "text/plain": [
       "   funded_amnt  emp_length  annual_inc  home_ownership     grade  \\\n",
       "0    -0.828292    1.457108   -0.705423       -0.572992  0.417449   \n",
       "1    -1.175805   -1.142258   -0.611323       -0.572992 -0.302911   \n",
       "2    -1.189705    1.457108   -0.889671       -0.572992 -0.302911   \n",
       "3    -0.133267    1.457108   -0.310202       -0.572992 -0.302911   \n",
       "4    -1.106302   -1.142258    0.172845       -0.572992  0.417449   \n",
       "\n",
       "   last_pymnt_amnt  loan_amnt  int_rate  open_acc  loan_status  \n",
       "0        -0.564321  -0.834805 -0.369659 -1.430479     0.407673  \n",
       "1        -0.576015  -1.169726  0.869805 -1.430479    -2.452943  \n",
       "2        -0.456679  -1.183123  1.054919 -1.657755     0.407673  \n",
       "3        -0.522492  -0.164963  0.392262  0.160451     0.407673  \n",
       "4        -0.587799  -1.102742  0.177637  1.296830     0.407673  "
      ]
     },
     "execution_count": 57,
     "metadata": {},
     "output_type": "execute_result"
    }
   ],
   "source": [
    "pd.DataFrame(data = x, columns = features).head()"
   ]
  },
  {
   "cell_type": "code",
   "execution_count": 58,
   "metadata": {},
   "outputs": [],
   "source": [
    "pca = PCA(n_components = 2)"
   ]
  },
  {
   "cell_type": "code",
   "execution_count": 59,
   "metadata": {},
   "outputs": [],
   "source": [
    "principalComponents = pca.fit_transform(x)"
   ]
  },
  {
   "cell_type": "code",
   "execution_count": 60,
   "metadata": {},
   "outputs": [],
   "source": [
    "principalDf = pd.DataFrame(data = principalComponents, columns = ['PC 1', 'PC 2'])"
   ]
  },
  {
   "cell_type": "code",
   "execution_count": 61,
   "metadata": {},
   "outputs": [
    {
     "data": {
      "text/html": [
       "<div>\n",
       "<style scoped>\n",
       "    .dataframe tbody tr th:only-of-type {\n",
       "        vertical-align: middle;\n",
       "    }\n",
       "\n",
       "    .dataframe tbody tr th {\n",
       "        vertical-align: top;\n",
       "    }\n",
       "\n",
       "    .dataframe thead th {\n",
       "        text-align: right;\n",
       "    }\n",
       "</style>\n",
       "<table border=\"1\" class=\"dataframe\">\n",
       "  <thead>\n",
       "    <tr style=\"text-align: right;\">\n",
       "      <th></th>\n",
       "      <th>PC 1</th>\n",
       "      <th>PC 2</th>\n",
       "    </tr>\n",
       "  </thead>\n",
       "  <tbody>\n",
       "    <tr>\n",
       "      <th>0</th>\n",
       "      <td>-1.570055</td>\n",
       "      <td>-0.256103</td>\n",
       "    </tr>\n",
       "    <tr>\n",
       "      <th>1</th>\n",
       "      <td>-1.352790</td>\n",
       "      <td>-2.835946</td>\n",
       "    </tr>\n",
       "    <tr>\n",
       "      <th>2</th>\n",
       "      <td>-1.163599</td>\n",
       "      <td>-1.559294</td>\n",
       "    </tr>\n",
       "    <tr>\n",
       "      <th>3</th>\n",
       "      <td>0.003917</td>\n",
       "      <td>-0.293886</td>\n",
       "    </tr>\n",
       "    <tr>\n",
       "      <th>4</th>\n",
       "      <td>-1.423516</td>\n",
       "      <td>-0.333970</td>\n",
       "    </tr>\n",
       "  </tbody>\n",
       "</table>\n",
       "</div>"
      ],
      "text/plain": [
       "       PC 1      PC 2\n",
       "0 -1.570055 -0.256103\n",
       "1 -1.352790 -2.835946\n",
       "2 -1.163599 -1.559294\n",
       "3  0.003917 -0.293886\n",
       "4 -1.423516 -0.333970"
      ]
     },
     "execution_count": 61,
     "metadata": {},
     "output_type": "execute_result"
    }
   ],
   "source": [
    "principalDf.head()"
   ]
  },
  {
   "cell_type": "code",
   "execution_count": 62,
   "metadata": {},
   "outputs": [],
   "source": [
    "finalDf = pd.concat([principalDf, df_final[['loan_status']]], axis = 1)"
   ]
  },
  {
   "cell_type": "code",
   "execution_count": 63,
   "metadata": {},
   "outputs": [
    {
     "data": {
      "text/html": [
       "<div>\n",
       "<style scoped>\n",
       "    .dataframe tbody tr th:only-of-type {\n",
       "        vertical-align: middle;\n",
       "    }\n",
       "\n",
       "    .dataframe tbody tr th {\n",
       "        vertical-align: top;\n",
       "    }\n",
       "\n",
       "    .dataframe thead th {\n",
       "        text-align: right;\n",
       "    }\n",
       "</style>\n",
       "<table border=\"1\" class=\"dataframe\">\n",
       "  <thead>\n",
       "    <tr style=\"text-align: right;\">\n",
       "      <th></th>\n",
       "      <th>PC 1</th>\n",
       "      <th>PC 2</th>\n",
       "      <th>loan_status</th>\n",
       "    </tr>\n",
       "  </thead>\n",
       "  <tbody>\n",
       "    <tr>\n",
       "      <th>0</th>\n",
       "      <td>-1.570055</td>\n",
       "      <td>-0.256103</td>\n",
       "      <td>1</td>\n",
       "    </tr>\n",
       "    <tr>\n",
       "      <th>1</th>\n",
       "      <td>-1.352790</td>\n",
       "      <td>-2.835946</td>\n",
       "      <td>0</td>\n",
       "    </tr>\n",
       "    <tr>\n",
       "      <th>2</th>\n",
       "      <td>-1.163599</td>\n",
       "      <td>-1.559294</td>\n",
       "      <td>1</td>\n",
       "    </tr>\n",
       "    <tr>\n",
       "      <th>3</th>\n",
       "      <td>0.003917</td>\n",
       "      <td>-0.293886</td>\n",
       "      <td>1</td>\n",
       "    </tr>\n",
       "    <tr>\n",
       "      <th>4</th>\n",
       "      <td>-1.423516</td>\n",
       "      <td>-0.333970</td>\n",
       "      <td>1</td>\n",
       "    </tr>\n",
       "  </tbody>\n",
       "</table>\n",
       "</div>"
      ],
      "text/plain": [
       "       PC 1      PC 2  loan_status\n",
       "0 -1.570055 -0.256103            1\n",
       "1 -1.352790 -2.835946            0\n",
       "2 -1.163599 -1.559294            1\n",
       "3  0.003917 -0.293886            1\n",
       "4 -1.423516 -0.333970            1"
      ]
     },
     "execution_count": 63,
     "metadata": {},
     "output_type": "execute_result"
    }
   ],
   "source": [
    "finalDf.head()"
   ]
  },
  {
   "cell_type": "code",
   "execution_count": 64,
   "metadata": {},
   "outputs": [
    {
     "data": {
      "text/plain": [
       "(-5, 6)"
      ]
     },
     "execution_count": 64,
     "metadata": {},
     "output_type": "execute_result"
    },
    {
     "data": {
      "image/png": "[encoded data removed]",
      "text/plain": [
       "<Figure size 432x288 with 1 Axes>"
      ]
     },
     "metadata": {
      "needs_background": "light"
     },
     "output_type": "display_data"
    }
   ],
   "source": [
    "sns.scatterplot(x = 'PC 1', y = 'PC 2', data = finalDf, hue = 'loan_status', alpha = 0.1)\n",
    "plt.xlim(-5, 8)\n",
    "plt.ylim(-5, 6)"
   ]
  },
  {
   "cell_type": "code",
   "execution_count": 65,
   "metadata": {},
   "outputs": [
    {
     "data": {
      "text/plain": [
       "array([0.29566407, 0.17807643])"
      ]
     },
     "execution_count": 65,
     "metadata": {},
     "output_type": "execute_result"
    }
   ],
   "source": [
    "pca.explained_variance_ratio_"
   ]
  },
  {
   "cell_type": "code",
   "execution_count": 66,
   "metadata": {},
   "outputs": [
    {
     "name": "stdout",
     "output_type": "stream",
     "text": [
      "Covariance Matrix: \n",
      " [[ 1.00002514  0.16198472  0.26713632  0.15111011 -0.29194929  0.45315287\n",
      "   0.9815687   0.31357616  0.17551925 -0.04729997]\n",
      " [ 0.16198472  1.00002514  0.12236077  0.18774362 -0.01402559  0.0824028\n",
      "   0.16236349  0.01765684  0.10109323 -0.00489105]\n",
      " [ 0.26713632  0.12236077  1.00002514  0.17469712 -0.05522166  0.14058765\n",
      "   0.27134636  0.05348673  0.15818163  0.04116895]\n",
      " [ 0.15111011  0.18774362  0.17469712  1.00002514  0.02904058  0.08168231\n",
      "   0.15565403 -0.03780786  0.16907279  0.02135241]\n",
      " [-0.29194929 -0.01402559 -0.05522166  0.02904058  1.00002514 -0.14110715\n",
      "  -0.29149241 -0.94869763 -0.01333715  0.19165444]\n",
      " [ 0.45315287  0.0824028   0.14058765  0.08168231 -0.14110715  1.00002514\n",
      "   0.44865339  0.15774159  0.07906465  0.21582379]\n",
      " [ 0.9815687   0.16236349  0.27134636  0.15565403 -0.29149241  0.44865339\n",
      "   1.00002514  0.31048842  0.17722093 -0.05003607]\n",
      " [ 0.31357616  0.01765684  0.05348673 -0.03780786 -0.94869763  0.15774159\n",
      "   0.31048842  1.00002514  0.0103111  -0.19792319]\n",
      " [ 0.17551925  0.10109323  0.15818163  0.16907279 -0.01333715  0.07906465\n",
      "   0.17722093  0.0103111   1.00002514  0.01019894]\n",
      " [-0.04729997 -0.00489105  0.04116895  0.02135241  0.19165444  0.21582379\n",
      "  -0.05003607 -0.19792319  0.01019894  1.00002514]]\n"
     ]
    }
   ],
   "source": [
    "xt = x.T \n",
    "Cx = np.cov(xt)\n",
    "print('Covariance Matrix: \\n', Cx)"
   ]
  },
  {
   "cell_type": "code",
   "execution_count": 67,
   "metadata": {},
   "outputs": [],
   "source": [
    "X_train, X_test, y_train, y_test = train_test_split(df_final.iloc[:,:-1], df_final.iloc[:,-1], test_size=0.2, random_state=42)"
   ]
  },
  {
   "cell_type": "code",
   "execution_count": 68,
   "metadata": {},
   "outputs": [
    {
     "name": "stdout",
     "output_type": "stream",
     "text": [
      "Expected Variance is [9.64772549e-01 3.03970909e-02 4.53853397e-03 2.91812637e-04\n",
      " 5.60556476e-09 4.24310338e-09 3.44238553e-09 1.09998604e-10\n",
      " 5.15072604e-11]\n"
     ]
    }
   ],
   "source": [
    "from sklearn.decomposition import PCA \n",
    "pca = PCA(n_components= 9, whiten=True)\n",
    "X_train_pca = pca.fit_transform(X_train)\n",
    "X_test_pca = pca.transform(X_test)\n",
    "explained_variance = pca.explained_variance_ratio_\n",
    "print('Expected Variance is '+ str(explained_variance))"
   ]
  },
  {
   "cell_type": "code",
   "execution_count": 69,
   "metadata": {},
   "outputs": [
    {
     "name": "stdout",
     "output_type": "stream",
     "text": [
      "(31828, 9)\n",
      "(39786, 10)\n"
     ]
    }
   ],
   "source": [
    "X_train, X_test = X_train[features[:-1]], X_test[features[:-1]]\n",
    "df_final = df_final[features]\n",
    "print(X_train.shape)\n",
    "print(df_final.shape)"
   ]
  },
  {
   "cell_type": "markdown",
   "metadata": {},
   "source": [
    "## __Supervised Learning:__"
   ]
  },
  {
   "cell_type": "markdown",
   "metadata": {},
   "source": [
    "## __Naive Bayes:__"
   ]
  },
  {
   "cell_type": "markdown",
   "metadata": {},
   "source": [
    "This is just a simple model to see if it can accurately predict if a loan is fully paid vs. charged off. This model was chosen because of the simplicity purposes before moving on to more complex models that follow. First, I looked at a single variable and then I fit the train set / generated an accuracy score out of the test set."
   ]
  },
  {
   "cell_type": "markdown",
   "metadata": {},
   "source": [
    "- Accuracy score: 0.8613"
   ]
  },
  {
   "cell_type": "markdown",
   "metadata": {},
   "source": [
    "Due to class imbalance, recall / precision for the minority class is really poor."
   ]
  },
  {
   "cell_type": "code",
   "execution_count": 70,
   "metadata": {},
   "outputs": [
    {
     "name": "stdout",
     "output_type": "stream",
     "text": [
      "The accuracy score is:  0.8574875584376414\n"
     ]
    }
   ],
   "source": [
    "#Looking at Model Accuracy with only one variable here \n",
    "\n",
    "data = df_final['loan_amnt'].values.reshape(-1,1)\n",
    "target = df_final['loan_status']\n",
    "from sklearn.naive_bayes import BernoulliNB\n",
    "bnb = BernoulliNB()\n",
    "bnb.fit(data, target)\n",
    "y_pred = bnb.predict(data)\n",
    "print('The accuracy score is: ', bnb.score(data, target))"
   ]
  },
  {
   "cell_type": "code",
   "execution_count": 71,
   "metadata": {},
   "outputs": [
    {
     "name": "stdout",
     "output_type": "stream",
     "text": [
      "0.8586150559256001\n",
      "Accuracy score is: 0.8613973360140739\n"
     ]
    }
   ],
   "source": [
    "# Looking at Model Accurancy with all features above\n",
    "model = BernoulliNB().fit(X_train, y_train)\n",
    "print(model.score(X_train, y_train))\n",
    "predicted = model.predict(X_test)\n",
    "print('Accuracy score is:', np.mean(predicted == y_test))"
   ]
  },
  {
   "cell_type": "code",
   "execution_count": 72,
   "metadata": {},
   "outputs": [
    {
     "name": "stdout",
     "output_type": "stream",
     "text": [
      "[[   7 1103]\n",
      " [   0 6848]]\n",
      "With 20% Holdout: 0.8613973360140739\n",
      "Testing on Sample: 0.8574875584376414\n"
     ]
    }
   ],
   "source": [
    "from sklearn.metrics import confusion_matrix\n",
    "print(confusion_matrix(y_test, predicted))  \n",
    "print('With 20% Holdout: ' + str(bnb.fit(X_train, y_train).score(X_test, y_test)))\n",
    "print('Testing on Sample: ' + str(bnb.fit(data, target).score(data, target)))"
   ]
  },
  {
   "cell_type": "code",
   "execution_count": 73,
   "metadata": {},
   "outputs": [
    {
     "name": "stdout",
     "output_type": "stream",
     "text": [
      "              precision    recall  f1-score   support\n",
      "\n",
      "           0       1.00      0.01      0.01      1110\n",
      "           1       0.86      1.00      0.93      6848\n",
      "\n",
      "   micro avg       0.86      0.86      0.86      7958\n",
      "   macro avg       0.93      0.50      0.47      7958\n",
      "weighted avg       0.88      0.86      0.80      7958\n",
      "\n"
     ]
    }
   ],
   "source": [
    "from sklearn import metrics\n",
    "print(metrics.classification_report(y_test, predicted))"
   ]
  },
  {
   "cell_type": "code",
   "execution_count": 74,
   "metadata": {},
   "outputs": [
    {
     "data": {
      "text/plain": [
       "array([0.85750188, 0.85750188, 0.85750188, 0.85750188, 0.85750188,\n",
       "       0.85750188, 0.85746606, 0.85746606, 0.85746606, 0.85746606])"
      ]
     },
     "execution_count": 74,
     "metadata": {},
     "output_type": "execute_result"
    }
   ],
   "source": [
    "from sklearn.model_selection import cross_val_score\n",
    "cross_val_score(bnb, data, target, cv=10)"
   ]
  },
  {
   "cell_type": "markdown",
   "metadata": {},
   "source": [
    "## __Random Forest Model & Random Forest Classifier using GridSearch:__"
   ]
  },
  {
   "cell_type": "markdown",
   "metadata": {},
   "source": [
    "Second, I used the Random Forest Model specifically the RandomForestClassifier. This was used as it is helpful in classification models where there is a clear class imbalance like this dataset. It also helps reduce bias based on a single feature importance which I discovered this dataset to have."
   ]
  },
  {
   "cell_type": "markdown",
   "metadata": {},
   "source": [
    "- Accuracy Score: 0.8571"
   ]
  },
  {
   "cell_type": "markdown",
   "metadata": {},
   "source": [
    "Due to class imbalance, precision / recall scores for the minority class is really poor."
   ]
  },
  {
   "cell_type": "markdown",
   "metadata": {},
   "source": [
    "Cross validation was used to see any overfitting which was not the case based on the scores."
   ]
  },
  {
   "cell_type": "code",
   "execution_count": 75,
   "metadata": {},
   "outputs": [],
   "source": [
    "from sklearn.model_selection import GridSearchCV \n",
    "from sklearn.model_selection import RandomizedSearchCV\n",
    "from sklearn.ensemble import RandomForestClassifier\n",
    "from sklearn import ensemble\n",
    "from sklearn import metrics"
   ]
  },
  {
   "cell_type": "code",
   "execution_count": 76,
   "metadata": {},
   "outputs": [
    {
     "name": "stdout",
     "output_type": "stream",
     "text": [
      "0.8567299233379414\n",
      "0.8605177180196029\n"
     ]
    }
   ],
   "source": [
    "model = RandomForestClassifier(n_estimators = 1000, max_depth = 2) \n",
    "model.fit(X_train, y_train)\n",
    "ypred = model.predict(X_test)\n",
    "print(model.score(X_train, y_train))\n",
    "print(model.score(X_test, y_test))"
   ]
  },
  {
   "cell_type": "code",
   "execution_count": 77,
   "metadata": {},
   "outputs": [
    {
     "name": "stdout",
     "output_type": "stream",
     "text": [
      "              precision    recall  f1-score   support\n",
      "\n",
      "           0       0.00      0.00      0.00      1110\n",
      "           1       0.86      1.00      0.93      6848\n",
      "\n",
      "   micro avg       0.86      0.86      0.86      7958\n",
      "   macro avg       0.43      0.50      0.46      7958\n",
      "weighted avg       0.74      0.86      0.80      7958\n",
      "\n"
     ]
    }
   ],
   "source": [
    "#prediction related to model\n",
    "#precision -- of all the prediction of 0 - how many actual\n",
    "#recall - of all the def, how many were you able to identiy\n",
    "print(metrics.classification_report(y_test, ypred))"
   ]
  },
  {
   "cell_type": "code",
   "execution_count": 78,
   "metadata": {},
   "outputs": [
    {
     "name": "stdout",
     "output_type": "stream",
     "text": [
      "Wall time: 13min 13s\n"
     ]
    }
   ],
   "source": [
    "from sklearn.model_selection import GridSearchCV\n",
    "parameters = [{'n_estimators': [1, 10, 100, 500, 1000, 1500], #optimal set of parameters in the internal range of parameters\n",
    "               'max_depth': [1, 10, 100, 1000]}]\n",
    "grid_search = GridSearchCV(estimator = model, \n",
    "                          param_grid = parameters, \n",
    "                          scoring = 'accuracy',\n",
    "                          cv = 10,\n",
    "                          n_jobs = -1)\n",
    "%time grid_search = grid_search.fit(X_train, y_train)"
   ]
  },
  {
   "cell_type": "code",
   "execution_count": 79,
   "metadata": {},
   "outputs": [
    {
     "name": "stdout",
     "output_type": "stream",
     "text": [
      "              precision    recall  f1-score   support\n",
      "\n",
      "           0       1.00      0.01      0.01      1110\n",
      "           1       0.86      1.00      0.93      6848\n",
      "\n",
      "   micro avg       0.86      0.86      0.86      7958\n",
      "   macro avg       0.93      0.50      0.47      7958\n",
      "weighted avg       0.88      0.86      0.80      7958\n",
      "\n",
      "0.8766021613470721\n"
     ]
    }
   ],
   "source": [
    "print(metrics.classification_report(y_test, predicted))\n",
    "print(grid_search.score(X_test, y_test))"
   ]
  },
  {
   "cell_type": "code",
   "execution_count": 80,
   "metadata": {},
   "outputs": [
    {
     "name": "stdout",
     "output_type": "stream",
     "text": [
      "              precision    recall  f1-score   support\n",
      "\n",
      "           0       0.00      0.00      0.00         0\n",
      "           1       1.00      0.86      0.93      7958\n",
      "\n",
      "   micro avg       0.86      0.86      0.86      7958\n",
      "   macro avg       0.50      0.43      0.46      7958\n",
      "weighted avg       1.00      0.86      0.93      7958\n",
      "\n"
     ]
    }
   ],
   "source": [
    "print(metrics.classification_report(ypred, y_test))"
   ]
  },
  {
   "cell_type": "code",
   "execution_count": 81,
   "metadata": {},
   "outputs": [
    {
     "data": {
      "image/png": "[encoded data removed]",
      "text/plain": [
       "<Figure size 432x288 with 1 Axes>"
      ]
     },
     "metadata": {
      "needs_background": "light"
     },
     "output_type": "display_data"
    }
   ],
   "source": [
    "from sklearn.metrics import confusion_matrix\n",
    "mat = confusion_matrix(y_test, ypred)\n",
    "sns.heatmap(mat.T, square=True, annot=True, fmt='d', cbar=False)\n",
    "plt.xlabel('true label')\n",
    "plt.ylabel('predicted label');"
   ]
  },
  {
   "cell_type": "code",
   "execution_count": 82,
   "metadata": {},
   "outputs": [
    {
     "name": "stdout",
     "output_type": "stream",
     "text": [
      "0.8575126929070528\n",
      "[0.85750188 0.85750188 0.85750188 0.85750188 0.85750188 0.85750188\n",
      " 0.85746606 0.85746606 0.85721468 0.85746606]\n"
     ]
    }
   ],
   "source": [
    "rfc = RandomForestClassifier(max_depth = 3)\n",
    "X = df_final.drop('loan_status', 1)\n",
    "Y = df_final['loan_status']\n",
    "X = pd.get_dummies(X)\n",
    "X = X.dropna(axis = 1)\n",
    "rfc_cv = cross_val_score(rfc, X, Y, cv = 10)\n",
    "rfc.fit(X, Y)\n",
    "print(rfc.score(X, Y))\n",
    "print(cross_val_score(rfc, X, Y, cv = 10))"
   ]
  },
  {
   "cell_type": "code",
   "execution_count": 83,
   "metadata": {},
   "outputs": [
    {
     "data": {
      "text/plain": [
       "0.8574875562767879"
      ]
     },
     "execution_count": 83,
     "metadata": {},
     "output_type": "execute_result"
    }
   ],
   "source": [
    "rfc_cv.mean()"
   ]
  },
  {
   "cell_type": "code",
   "execution_count": 84,
   "metadata": {},
   "outputs": [
    {
     "data": {
      "text/plain": [
       "RandomForestClassifier(bootstrap=True, class_weight=None, criterion='gini',\n",
       "            max_depth=3, max_features='auto', max_leaf_nodes=None,\n",
       "            min_impurity_decrease=0.0, min_impurity_split=None,\n",
       "            min_samples_leaf=1, min_samples_split=2,\n",
       "            min_weight_fraction_leaf=0.0, n_estimators=10, n_jobs=None,\n",
       "            oob_score=False, random_state=None, verbose=0,\n",
       "            warm_start=False)"
      ]
     },
     "execution_count": 84,
     "metadata": {},
     "output_type": "execute_result"
    }
   ],
   "source": [
    "rfc = RandomForestClassifier(max_depth = 3)\n",
    "rfc.fit(X,Y)"
   ]
  },
  {
   "cell_type": "code",
   "execution_count": 85,
   "metadata": {},
   "outputs": [],
   "source": [
    "prediction = rfc.predict(X_test)"
   ]
  },
  {
   "cell_type": "code",
   "execution_count": 86,
   "metadata": {},
   "outputs": [
    {
     "name": "stdout",
     "output_type": "stream",
     "text": [
      "RandomForestClassifier(bootstrap=True, class_weight=None, criterion='gini',\n",
      "            max_depth=None, max_features=7, max_leaf_nodes=None,\n",
      "            min_impurity_decrease=0.0, min_impurity_split=None,\n",
      "            min_samples_leaf=1, min_samples_split=2,\n",
      "            min_weight_fraction_leaf=0.0, n_estimators=10, n_jobs=None,\n",
      "            oob_score=False, random_state=0, verbose=0, warm_start=False)\n"
     ]
    }
   ],
   "source": [
    "rf = RandomForestClassifier(criterion = 'gini', random_state = 0)\n",
    "maxFeatures = range(1, df_final.shape[1]-1)\n",
    "param_dist = dict(max_features = maxFeatures)\n",
    "rand = RandomizedSearchCV(rf, param_dist, cv = 10, scoring = 'accuracy', n_iter = len(maxFeatures), random_state = 10)\n",
    "X = df_final.drop('loan_status' , 1)\n",
    "Y = df_final['loan_status']\n",
    "X = pd.get_dummies(X)\n",
    "X = X.dropna(axis = 1)\n",
    "rand.fit(X, Y)\n",
    "#print('Best Accuracy = '+str(rand.best_score_))\n",
    "print(rand.best_estimator_)"
   ]
  },
  {
   "cell_type": "code",
   "execution_count": 87,
   "metadata": {},
   "outputs": [
    {
     "name": "stdout",
     "output_type": "stream",
     "text": [
      "0.8719527519477256\n"
     ]
    }
   ],
   "source": [
    "randomForest = RandomForestClassifier(bootstrap=True,criterion = \"gini\",max_features=rand.best_estimator_.max_features,random_state=0 )\n",
    "randomForest.fit(X_train,y_train)\n",
    "rfPredict = randomForest.predict(X_test)\n",
    "rfPredictproba = randomForest.predict_proba(X_test)[:,1]\n",
    "rfAccuracy = accuracy_score(y_test,rfPredict)\n",
    "print(rfAccuracy)"
   ]
  },
  {
   "cell_type": "markdown",
   "metadata": {},
   "source": [
    "__Feature Importance Generated using Random Forest Classifier:__"
   ]
  },
  {
   "cell_type": "markdown",
   "metadata": {},
   "source": [
    "The most important feature appears to be Last Payment Amount which seems intuitive as someone who makes a payment or not leads to them paying fully vs. defaulting."
   ]
  },
  {
   "cell_type": "code",
   "execution_count": 88,
   "metadata": {},
   "outputs": [
    {
     "data": {
      "image/png": "[encoded data removed]",
      "text/plain": [
       "<Figure size 432x288 with 1 Axes>"
      ]
     },
     "metadata": {
      "needs_background": "light"
     },
     "output_type": "display_data"
    }
   ],
   "source": [
    "fig, ax = plt.subplots()\n",
    "width = 0.35\n",
    "ax.bar(np.arange(len(features)-1), randomForest.feature_importances_, width, color = 'g')\n",
    "ax.set_xticks(np.arange(len(randomForest.feature_importances_)))\n",
    "ax.set_xticklabels(X_train.columns.values,rotation=90)\n",
    "plt.title('Feature Importance')\n",
    "ax.set_ylabel('Normalized Gini Importance')\n",
    "plt.show()"
   ]
  },
  {
   "cell_type": "markdown",
   "metadata": {},
   "source": [
    "## __Logistic Regression using GridSearch:__"
   ]
  },
  {
   "cell_type": "markdown",
   "metadata": {},
   "source": [
    "Third model I used was Logistic Regression. To do so, I initially did a Logistic Regression using C values of 100 and then did a Grid Search to look for the ideal C Value parameter."
   ]
  },
  {
   "cell_type": "markdown",
   "metadata": {},
   "source": [
    "- Accuracy score: 0.8602"
   ]
  },
  {
   "cell_type": "markdown",
   "metadata": {},
   "source": [
    "The precision and recall are still low for the minority class due to class imbalance"
   ]
  },
  {
   "cell_type": "code",
   "execution_count": 89,
   "metadata": {},
   "outputs": [
    {
     "name": "stdout",
     "output_type": "stream",
     "text": [
      "[[-6.28788872e-06  1.88036811e-04  1.69563719e-05  2.55119781e-04\n",
      "   5.53109821e-04  2.34011349e-03 -6.86632709e-05  1.74242131e-04\n",
      "   4.38432644e-04]]\n",
      "0.8598894194521236\n",
      "0.8568870177202463\n"
     ]
    }
   ],
   "source": [
    "from sklearn.linear_model import LogisticRegression\n",
    "lr = LogisticRegression(C = 100)\n",
    "lr.fit(X_train, y_train)\n",
    "print(lr.coef_)\n",
    "print(lr.score(X_test, y_test))\n",
    "print(lr.score(X_train, y_train))"
   ]
  },
  {
   "cell_type": "code",
   "execution_count": 90,
   "metadata": {},
   "outputs": [
    {
     "name": "stdout",
     "output_type": "stream",
     "text": [
      "0.8659210856999247\n",
      "Wall time: 2.62 s\n"
     ]
    }
   ],
   "source": [
    "from sklearn.model_selection import GridSearchCV\n",
    "lr = LogisticRegression()\n",
    "parameters = [{'C': [1, 10, 100, 1000]}]\n",
    "grid_search = GridSearchCV(estimator = lr, \n",
    "                          param_grid = parameters, \n",
    "                          scoring = 'accuracy',\n",
    "                          cv = 10,\n",
    "                          n_jobs = -1)\n",
    "grid_search = grid_search.fit(X_train, y_train)\n",
    "print(grid_search.score(X_test, y_test))\n",
    "%time grid_search = grid_search.fit(X_train, y_train)"
   ]
  },
  {
   "cell_type": "code",
   "execution_count": 91,
   "metadata": {},
   "outputs": [
    {
     "name": "stdout",
     "output_type": "stream",
     "text": [
      "{'C': 1000}\n"
     ]
    }
   ],
   "source": [
    "print(grid_search.best_params_)"
   ]
  },
  {
   "cell_type": "code",
   "execution_count": 92,
   "metadata": {},
   "outputs": [
    {
     "name": "stdout",
     "output_type": "stream",
     "text": [
      "0.8602663985926112\n"
     ]
    }
   ],
   "source": [
    "from sklearn.model_selection import GridSearchCV\n",
    "lr = LogisticRegression()\n",
    "parameters = [{'C': [1, 10, 40, 70, 100, 200, 300, 400, 500, 600, 700, 800]}]\n",
    "grid_search = GridSearchCV(estimator = lr, \n",
    "                          param_grid = parameters, \n",
    "                          scoring = 'accuracy',\n",
    "                          cv = 10,\n",
    "                          n_jobs = -1)\n",
    "grid_search = grid_search.fit(X_train, y_train)\n",
    "print(grid_search.score(X_test, y_test))"
   ]
  },
  {
   "cell_type": "code",
   "execution_count": 93,
   "metadata": {},
   "outputs": [
    {
     "name": "stdout",
     "output_type": "stream",
     "text": [
      "{'C': 500}\n"
     ]
    }
   ],
   "source": [
    "print(grid_search.best_params_)"
   ]
  },
  {
   "cell_type": "code",
   "execution_count": 94,
   "metadata": {},
   "outputs": [
    {
     "name": "stdout",
     "output_type": "stream",
     "text": [
      "0.8602663985926112\n"
     ]
    }
   ],
   "source": [
    "from sklearn.model_selection import GridSearchCV\n",
    "lr = LogisticRegression()\n",
    "parameters = [{'C': [1, 10, 30, 40, 50, 60, 70, 100, 110, 120, 130, 140]}]\n",
    "grid_search = GridSearchCV(estimator = lr, \n",
    "                          param_grid = parameters, \n",
    "                          scoring = 'accuracy',\n",
    "                          cv = 10,\n",
    "                          n_jobs = -1)\n",
    "grid_search = grid_search.fit(X_train, y_train)\n",
    "print(grid_search.score(X_test, y_test))"
   ]
  },
  {
   "cell_type": "code",
   "execution_count": 95,
   "metadata": {},
   "outputs": [
    {
     "name": "stdout",
     "output_type": "stream",
     "text": [
      "              precision    recall  f1-score   support\n",
      "\n",
      "           0       0.49      0.07      0.13      1110\n",
      "           1       0.87      0.99      0.92      6848\n",
      "\n",
      "   micro avg       0.86      0.86      0.86      7958\n",
      "   macro avg       0.68      0.53      0.52      7958\n",
      "weighted avg       0.82      0.86      0.81      7958\n",
      "\n"
     ]
    }
   ],
   "source": [
    "predicted = grid_search.predict(X_test)\n",
    "print(metrics.classification_report(y_test, predicted))"
   ]
  },
  {
   "cell_type": "markdown",
   "metadata": {},
   "source": [
    "## __SVM Model using GridSearch:__"
   ]
  },
  {
   "cell_type": "markdown",
   "metadata": {},
   "source": [
    "I attempted to run SVM as it would help demonstrate distinction between the two classes clearly once a hyperplane is found. The code for this took too long but, I have included the GridSearch / SVM code here for reference."
   ]
  },
  {
   "cell_type": "code",
   "execution_count": 96,
   "metadata": {},
   "outputs": [],
   "source": [
    "#from sklearn.svm import SVC  ## takes super long to run..\n",
    "#model = SVC(kernel = 'linear', C = 1e10)\n",
    "#model.fit(X_train, y_train)\n",
    "#model.score(X_train, y_train)"
   ]
  },
  {
   "cell_type": "code",
   "execution_count": 97,
   "metadata": {},
   "outputs": [],
   "source": [
    "#model.support_vectors_"
   ]
  },
  {
   "cell_type": "code",
   "execution_count": 98,
   "metadata": {},
   "outputs": [],
   "source": [
    "#paramaters = {'svc__C': [1], \n",
    " #             'svc__gamma': [0.0001]}\n",
    "#grid = GridSearchCV(model, parameters)\n",
    "\n",
    "#%time grid.fit(X_train, y_train)\n",
    "#print(grid.best_params_)"
   ]
  },
  {
   "cell_type": "code",
   "execution_count": 99,
   "metadata": {},
   "outputs": [],
   "source": [
    "#model = grid.best_estimator_\n",
    "#yfit = model.predict(X_test)\n",
    "#model.score(X_test, y_test)"
   ]
  },
  {
   "cell_type": "markdown",
   "metadata": {},
   "source": [
    "## __KNN Neighbors:__"
   ]
  },
  {
   "cell_type": "markdown",
   "metadata": {},
   "source": [
    "Final model I used was the KNN Neighbors as it will predict classification of a new sample point based on the dataset. I initially started with just one n_neighbors parameter but then did a GridSearch expanding that to come up with the best accuracy score for the model."
   ]
  },
  {
   "cell_type": "markdown",
   "metadata": {},
   "source": [
    "- Accuracy Score: .8584"
   ]
  },
  {
   "cell_type": "code",
   "execution_count": 100,
   "metadata": {},
   "outputs": [
    {
     "name": "stdout",
     "output_type": "stream",
     "text": [
      "0.8071123397838653\n",
      "1.0\n"
     ]
    }
   ],
   "source": [
    "knn = KNeighborsClassifier(n_neighbors = 1)\n",
    "knn.fit(X_train, y_train)\n",
    "print(knn.score(X_test, y_test))\n",
    "print(knn.score(X_train, y_train))"
   ]
  },
  {
   "cell_type": "code",
   "execution_count": 101,
   "metadata": {},
   "outputs": [
    {
     "name": "stdout",
     "output_type": "stream",
     "text": [
      "{'n_neighbors': 19}\n",
      "KNeighborsClassifier(algorithm='auto', leaf_size=30, metric='minkowski',\n",
      "           metric_params=None, n_jobs=None, n_neighbors=19, p=2,\n",
      "           weights='uniform')\n",
      "0.8609086339072515\n",
      "0.8581301834631817\n"
     ]
    }
   ],
   "source": [
    "knn = KNeighborsClassifier()\n",
    "k_range = list(range(10, 20))\n",
    "parameters = dict(n_neighbors = k_range)\n",
    "grid = GridSearchCV(knn, parameters, cv = 10, scoring = 'accuracy')\n",
    "grid_search = grid.fit(X_train, y_train)\n",
    "print(grid.best_params_)\n",
    "print(grid.best_estimator_)\n",
    "print(grid_search.score(X_train, y_train))\n",
    "print(grid_search.score(X_test, y_test))"
   ]
  },
  {
   "cell_type": "code",
   "execution_count": 102,
   "metadata": {},
   "outputs": [
    {
     "name": "stdout",
     "output_type": "stream",
     "text": [
      "0.8581301834631817\n"
     ]
    }
   ],
   "source": [
    "knn_pred = grid.predict(X_test)\n",
    "knn_acc = accuracy_score(y_test, knn_pred)\n",
    "print(knn_acc)"
   ]
  },
  {
   "cell_type": "code",
   "execution_count": 103,
   "metadata": {},
   "outputs": [
    {
     "name": "stdout",
     "output_type": "stream",
     "text": [
      "              precision    recall  f1-score   support\n",
      "\n",
      "           0       0.43      0.05      0.09      1110\n",
      "           1       0.87      0.99      0.92      6848\n",
      "\n",
      "   micro avg       0.86      0.86      0.86      7958\n",
      "   macro avg       0.65      0.52      0.51      7958\n",
      "weighted avg       0.80      0.86      0.81      7958\n",
      "\n"
     ]
    }
   ],
   "source": [
    "print(metrics.classification_report(y_test, knn_pred))"
   ]
  },
  {
   "cell_type": "code",
   "execution_count": null,
   "metadata": {},
   "outputs": [],
   "source": []
  }
 ],
 "metadata": {
  "kernelspec": {
   "display_name": "Python 3",
   "language": "python",
   "name": "python3"
  },
  "language_info": {
   "codemirror_mode": {
    "name": "ipython",
    "version": 3
   },
   "file_extension": ".py",
   "mimetype": "text/x-python",
   "name": "python",
   "nbconvert_exporter": "python",
   "pygments_lexer": "ipython3",
   "version": "3.7.3"
  }
 },
 "nbformat": 4,
 "nbformat_minor": 2
}
